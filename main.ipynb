{
 "cells": [
  {
   "cell_type": "code",
   "execution_count": 76,
   "id": "8c224eab",
   "metadata": {},
   "outputs": [],
   "source": [
    "import pandas as pd\n",
    "df = pd.read_csv(\"example.csv\", index_col=None)"
   ]
  },
  {
   "cell_type": "code",
   "execution_count": 77,
   "id": "1f86d60a",
   "metadata": {},
   "outputs": [],
   "source": [
    "# Remove first three columns\n",
    "df = df.iloc[:, 1:]"
   ]
  },
  {
   "cell_type": "code",
   "execution_count": 78,
   "id": "16070518",
   "metadata": {},
   "outputs": [],
   "source": [
    "df.columns = [\"index\", \"data\"]"
   ]
  },
  {
   "cell_type": "code",
   "execution_count": 79,
   "id": "98b04c65",
   "metadata": {},
   "outputs": [],
   "source": [
    "df = df.set_index(\"index\")"
   ]
  },
  {
   "cell_type": "code",
   "execution_count": 81,
   "id": "c517f5c9",
   "metadata": {},
   "outputs": [],
   "source": [
    "df[\"data\"] = df[\"data\"].astype(\"object\")"
   ]
  },
  {
   "cell_type": "code",
   "execution_count": 82,
   "id": "594e4520",
   "metadata": {},
   "outputs": [
    {
     "data": {
      "text/plain": [
       "data    B.A./2751/2023 of VIJAY SHANKAR Vs THE STATE O...\n",
       "Name: 1, dtype: object"
      ]
     },
     "execution_count": 82,
     "metadata": {},
     "output_type": "execute_result"
    }
   ],
   "source": [
    "df.iloc[0]"
   ]
  },
  {
   "cell_type": "code",
   "execution_count": 83,
   "id": "236c712b",
   "metadata": {},
   "outputs": [
    {
     "data": {
      "text/html": [
       "<div>\n",
       "<style scoped>\n",
       "    .dataframe tbody tr th:only-of-type {\n",
       "        vertical-align: middle;\n",
       "    }\n",
       "\n",
       "    .dataframe tbody tr th {\n",
       "        vertical-align: top;\n",
       "    }\n",
       "\n",
       "    .dataframe thead th {\n",
       "        text-align: right;\n",
       "    }\n",
       "</style>\n",
       "<table border=\"1\" class=\"dataframe\">\n",
       "  <thead>\n",
       "    <tr style=\"text-align: right;\">\n",
       "      <th></th>\n",
       "      <th>data</th>\n",
       "    </tr>\n",
       "    <tr>\n",
       "      <th>index</th>\n",
       "      <th></th>\n",
       "    </tr>\n",
       "  </thead>\n",
       "  <tbody>\n",
       "    <tr>\n",
       "      <th>1</th>\n",
       "      <td>B.A./2751/2023 of VIJAY SHANKAR Vs THE STATE O...</td>\n",
       "    </tr>\n",
       "    <tr>\n",
       "      <th>2</th>\n",
       "      <td>W.P.(CRL)/1505/2021 of MRS X Vs UNION OF INDIA...</td>\n",
       "    </tr>\n",
       "    <tr>\n",
       "      <th>3</th>\n",
       "      <td>CRR/202/2022 of TRIDIB SARKAR Vs STATE OF WEST...</td>\n",
       "    </tr>\n",
       "    <tr>\n",
       "      <th>4</th>\n",
       "      <td>CRR/1547/2021 of SITAL CHAKRABORTY @ SITAL CHA...</td>\n",
       "    </tr>\n",
       "    <tr>\n",
       "      <th>5</th>\n",
       "      <td>SOSA/283/2023 of MAHENDRA KUMAR PRAJAPAT Vs ST...</td>\n",
       "    </tr>\n",
       "    <tr>\n",
       "      <th>6</th>\n",
       "      <td>ABA/349/2023 of AKSHAY KRISHENDRA KUMAR YADAV ...</td>\n",
       "    </tr>\n",
       "    <tr>\n",
       "      <th>7</th>\n",
       "      <td>CRLA/200/2023 of SANAJAY MAHARANA@SYAMA@SANJAY...</td>\n",
       "    </tr>\n",
       "    <tr>\n",
       "      <th>8</th>\n",
       "      <td>B.A./2304/2023 of RAJ KUMAR MANDAL Vs THE STAT...</td>\n",
       "    </tr>\n",
       "    <tr>\n",
       "      <th>9</th>\n",
       "      <td>WPCR/47/2023 of HARDEEP SINGH Vs DIRECTORATE O...</td>\n",
       "    </tr>\n",
       "    <tr>\n",
       "      <th>10</th>\n",
       "      <td>WPCR/46/2023 of ANKUR @ RAHUL KHANNA Vs DIRECT...</td>\n",
       "    </tr>\n",
       "    <tr>\n",
       "      <th>11</th>\n",
       "      <td>B.A./2333/2023 of VISHAL KAUMAR MANDAL ALIAS B...</td>\n",
       "    </tr>\n",
       "    <tr>\n",
       "      <th>12</th>\n",
       "      <td>MCRC/2564/2023 of BHUPENDRA VISHWAKARMA Vs STA...</td>\n",
       "    </tr>\n",
       "    <tr>\n",
       "      <th>13</th>\n",
       "      <td>CRLMP/1886/2023 of KISHAN KUMAR VYAS @ KRISHNA...</td>\n",
       "    </tr>\n",
       "    <tr>\n",
       "      <th>14</th>\n",
       "      <td>BLAPL/3349/2023 of ASISH PRADHAN Vs STATE OF O...</td>\n",
       "    </tr>\n",
       "    <tr>\n",
       "      <th>15</th>\n",
       "      <td>CRLMB/3175/2023 of SACHIN SINGODIYA SON OF VIR...</td>\n",
       "    </tr>\n",
       "    <tr>\n",
       "      <th>16</th>\n",
       "      <td>BLAPL/3082/2023 of PRAKASH NAYAK Vs STATE OF O...</td>\n",
       "    </tr>\n",
       "    <tr>\n",
       "      <th>17</th>\n",
       "      <td>B.A./13756/2022 of SAHBAZ ANSARI Vs THE STATE ...</td>\n",
       "    </tr>\n",
       "    <tr>\n",
       "      <th>18</th>\n",
       "      <td>BLAPL/3073/2023 of BALIA @ BALARAM SETHI Vs ST...</td>\n",
       "    </tr>\n",
       "    <tr>\n",
       "      <th>19</th>\n",
       "      <td>B.A./13733/2022 of SAMSAD ANSARI Vs THE STATE ...</td>\n",
       "    </tr>\n",
       "    <tr>\n",
       "      <th>20</th>\n",
       "      <td>A482/37952/2022 of OM PRAKASH @ GUDDU AND 4 OT...</td>\n",
       "    </tr>\n",
       "    <tr>\n",
       "      <th>21</th>\n",
       "      <td>WP/21462/2021 of SRI BHEEMASHANKAR S GULED Vs ...</td>\n",
       "    </tr>\n",
       "    <tr>\n",
       "      <th>22</th>\n",
       "      <td>CRLMP/941/2023 of SACHIN SAINI S/O SH. RAMDHAN...</td>\n",
       "    </tr>\n",
       "    <tr>\n",
       "      <th>23</th>\n",
       "      <td>CR. MISC./8526/2023 of ANARUDH MANDAL @ ANIRUD...</td>\n",
       "    </tr>\n",
       "    <tr>\n",
       "      <th>24</th>\n",
       "      <td>/106/2023 of VIJAY SITARAM KATE Vs STATE OF MA...</td>\n",
       "    </tr>\n",
       "    <tr>\n",
       "      <th>25</th>\n",
       "      <td>SCR.A/717/2015 of KETAN BABULAL SHAH Vs STATE ...</td>\n",
       "    </tr>\n",
       "  </tbody>\n",
       "</table>\n",
       "</div>"
      ],
      "text/plain": [
       "                                                    data\n",
       "index                                                   \n",
       "1      B.A./2751/2023 of VIJAY SHANKAR Vs THE STATE O...\n",
       "2      W.P.(CRL)/1505/2021 of MRS X Vs UNION OF INDIA...\n",
       "3      CRR/202/2022 of TRIDIB SARKAR Vs STATE OF WEST...\n",
       "4      CRR/1547/2021 of SITAL CHAKRABORTY @ SITAL CHA...\n",
       "5      SOSA/283/2023 of MAHENDRA KUMAR PRAJAPAT Vs ST...\n",
       "6      ABA/349/2023 of AKSHAY KRISHENDRA KUMAR YADAV ...\n",
       "7      CRLA/200/2023 of SANAJAY MAHARANA@SYAMA@SANJAY...\n",
       "8      B.A./2304/2023 of RAJ KUMAR MANDAL Vs THE STAT...\n",
       "9      WPCR/47/2023 of HARDEEP SINGH Vs DIRECTORATE O...\n",
       "10     WPCR/46/2023 of ANKUR @ RAHUL KHANNA Vs DIRECT...\n",
       "11     B.A./2333/2023 of VISHAL KAUMAR MANDAL ALIAS B...\n",
       "12     MCRC/2564/2023 of BHUPENDRA VISHWAKARMA Vs STA...\n",
       "13     CRLMP/1886/2023 of KISHAN KUMAR VYAS @ KRISHNA...\n",
       "14     BLAPL/3349/2023 of ASISH PRADHAN Vs STATE OF O...\n",
       "15     CRLMB/3175/2023 of SACHIN SINGODIYA SON OF VIR...\n",
       "16     BLAPL/3082/2023 of PRAKASH NAYAK Vs STATE OF O...\n",
       "17     B.A./13756/2022 of SAHBAZ ANSARI Vs THE STATE ...\n",
       "18     BLAPL/3073/2023 of BALIA @ BALARAM SETHI Vs ST...\n",
       "19     B.A./13733/2022 of SAMSAD ANSARI Vs THE STATE ...\n",
       "20     A482/37952/2022 of OM PRAKASH @ GUDDU AND 4 OT...\n",
       "21     WP/21462/2021 of SRI BHEEMASHANKAR S GULED Vs ...\n",
       "22     CRLMP/941/2023 of SACHIN SAINI S/O SH. RAMDHAN...\n",
       "23     CR. MISC./8526/2023 of ANARUDH MANDAL @ ANIRUD...\n",
       "24     /106/2023 of VIJAY SITARAM KATE Vs STATE OF MA...\n",
       "25     SCR.A/717/2015 of KETAN BABULAL SHAH Vs STATE ..."
      ]
     },
     "execution_count": 83,
     "metadata": {},
     "output_type": "execute_result"
    }
   ],
   "source": [
    "df"
   ]
  },
  {
   "cell_type": "code",
   "execution_count": 84,
   "id": "4f61ca29",
   "metadata": {},
   "outputs": [
    {
     "data": {
      "text/plain": [
       "array(['data'], dtype=object)"
      ]
     },
     "execution_count": 84,
     "metadata": {},
     "output_type": "execute_result"
    }
   ],
   "source": [
    "df.columns.values"
   ]
  },
  {
   "cell_type": "code",
   "execution_count": 87,
   "id": "6e1c9329",
   "metadata": {},
   "outputs": [],
   "source": [
    "cell_data = df.iloc[0][\"data\"]"
   ]
  },
  {
   "cell_type": "code",
   "execution_count": 88,
   "id": "d83f3a6e",
   "metadata": {},
   "outputs": [
    {
     "data": {
      "text/plain": [
       "\"B.A./2751/2023 of VIJAY SHANKAR Vs THE STATE OF JHARKHAND Judge Name: HON'BLE MR. JUSTICE RAJESH KUMAR / 467/ 468/ 471 and 120B of IPC and Sections 66(B)/ 66(C)/ 66(D) and 84(C) of the Information & Technology Act , pending in the court of Addl. Sessions Judge-II, Deoghar. The applicant is an accused of committing cyber-crime. It has been submitted by learned counsel for the applicant(s  CNR : JHHC010100632023 | Date of registration : 31-03-2023 | Date of decision : 27-04-2023 | Disposal Nature : Allowed Court : High Court of Jharkhand\""
      ]
     },
     "execution_count": 88,
     "metadata": {},
     "output_type": "execute_result"
    }
   ],
   "source": [
    "cell_data"
   ]
  },
  {
   "cell_type": "code",
   "execution_count": 91,
   "id": "54da3fec",
   "metadata": {},
   "outputs": [],
   "source": [
    "case_num, rest = cell_data.split(\" of \", maxsplit=1)"
   ]
  },
  {
   "cell_type": "code",
   "execution_count": 94,
   "id": "4d8e6351",
   "metadata": {},
   "outputs": [],
   "source": [
    "case_title, rest = rest.split(\" Judge Name: \")"
   ]
  },
  {
   "cell_type": "code",
   "execution_count": 98,
   "id": "b6445892",
   "metadata": {},
   "outputs": [],
   "source": [
    "case_judges, rest = rest.split(\"  \") if rest.find(\"  \") else "
   ]
  },
  {
   "cell_type": "code",
   "execution_count": 99,
   "id": "ac432a90",
   "metadata": {},
   "outputs": [
    {
     "data": {
      "text/plain": [
       "('VIJAY SHANKAR Vs THE STATE OF JHARKHAND',\n",
       " \"HON'BLE MR. JUSTICE RAJESH KUMAR / 467/ 468/ 471 and 120B of IPC and Sections 66(B)/ 66(C)/ 66(D) and 84(C) of the Information & Technology Act , pending in the court of Addl. Sessions Judge-II, Deoghar. The applicant is an accused of committing cyber-crime. It has been submitted by learned counsel for the applicant(s\")"
      ]
     },
     "execution_count": 99,
     "metadata": {},
     "output_type": "execute_result"
    }
   ],
   "source": [
    "case_title, case_judges"
   ]
  },
  {
   "cell_type": "code",
   "execution_count": 100,
   "id": "31416f7c",
   "metadata": {},
   "outputs": [],
   "source": [
    "import urllib.request\n",
    "local_filename, headers = urllib.request.urlretrieve('http://python.org/')"
   ]
  },
  {
   "cell_type": "code",
   "execution_count": 101,
   "id": "78ca11ab",
   "metadata": {},
   "outputs": [
    {
     "data": {
      "text/plain": [
       "<http.client.HTTPMessage at 0x2767ad24650>"
      ]
     },
     "execution_count": 101,
     "metadata": {},
     "output_type": "execute_result"
    }
   ],
   "source": [
    "headers"
   ]
  },
  {
   "cell_type": "code",
   "execution_count": 102,
   "id": "db70f861",
   "metadata": {},
   "outputs": [
    {
     "data": {
      "text/plain": [
       "'C:\\\\Users\\\\anujs\\\\AppData\\\\Local\\\\Temp\\\\tmpi36uj4zl'"
      ]
     },
     "execution_count": 102,
     "metadata": {},
     "output_type": "execute_result"
    }
   ],
   "source": [
    "local_filename"
   ]
  },
  {
   "cell_type": "code",
   "execution_count": null,
   "id": "98abb486",
   "metadata": {},
   "outputs": [],
   "source": []
  }
 ],
 "metadata": {
  "kernelspec": {
   "display_name": "Python 3 (ipykernel)",
   "language": "python",
   "name": "python3"
  },
  "language_info": {
   "codemirror_mode": {
    "name": "ipython",
    "version": 3
   },
   "file_extension": ".py",
   "mimetype": "text/x-python",
   "name": "python",
   "nbconvert_exporter": "python",
   "pygments_lexer": "ipython3",
   "version": "3.11.3"
  }
 },
 "nbformat": 4,
 "nbformat_minor": 5
}
