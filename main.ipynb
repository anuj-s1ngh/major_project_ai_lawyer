{
 "cells": [
  {
   "cell_type": "code",
   "execution_count": 29,
   "id": "d0974bfc",
   "metadata": {},
   "outputs": [
    {
     "name": "stdout",
     "output_type": "stream",
     "text": [
      "Section Number: 47A\n"
     ]
    }
   ],
   "source": [
    "import re\n",
    "\n",
    "# Example input string\n",
    "input_string = \"Section 47A of the Code of Criminal Procedure, 1973\"\n",
    "\n",
    "# Define the regex pattern to extract the section number\n",
    "pattern = r'Section\\s+(\\w+)\\s+of\\s+the\\s+\\w+'\n",
    "\n",
    "# Perform the regular expression matching\n",
    "match = re.search(pattern, input_string)\n",
    "\n",
    "# If a match is found, extract the section number and store it in a variable\n",
    "if match:\n",
    "    section_number = match.group(1)\n",
    "    print(\"Section Number:\", section_number)\n",
    "else:\n",
    "    print(\"No section number found in input string.\")\n"
   ]
  },
  {
   "cell_type": "code",
   "execution_count": 32,
   "id": "fc78c23d",
   "metadata": {},
   "outputs": [
    {
     "name": "stdout",
     "output_type": "stream",
     "text": [
      "Section Numbers: ['47A', '15A', '21B', '23A', '27B', '39C']\n"
     ]
    }
   ],
   "source": [
    "import re\n",
    "\n",
    "# Define input strings for each format\n",
    "input_string_1 = \"Section 47A of the Code of Criminal Procedure, 1973\"\n",
    "input_string_2 = \"Articles 15A and 21B of the Constitution\"\n",
    "input_string_3 = \"Section 23A, 27B and 39C of the Income-tax Act, 1961\"\n",
    "input_string_4 = \"Sections 56A to 60C of the Customs Act, 1962\"\n",
    "\n",
    "# Define regex patterns for each format\n",
    "pattern_1 = r'Section\\s+(\\w+)\\s+of\\s+the\\s+\\w+'\n",
    "pattern_2 = r'(\\w+)\\s+and\\s+(\\w+)\\s+of\\s+the\\s+\\w+'\n",
    "pattern_3 = r'(\\w+),\\s*(\\w+)\\s+and\\s+(\\w+)\\s+of\\s+the\\s+\\w+'\n",
    "pattern_4 = r'(\\w+)\\s+to\\s+(\\w+)\\s+of\\s+the\\s+\\w+'\n",
    "\n",
    "# Define a list to hold the section numbers from each input string\n",
    "section_numbers = []\n",
    "\n",
    "# Extract section numbers from input string 1 using pattern 1\n",
    "match = re.search(pattern_1, input_string_1)\n",
    "if match:\n",
    "    section_numbers.append(match.group(1))\n",
    "\n",
    "# Extract section numbers from input string 2 using pattern 2\n",
    "match = re.search(pattern_2, input_string_2)\n",
    "if match:\n",
    "    section_numbers.append(match.group(1))\n",
    "    section_numbers.append(match.group(2))\n",
    "\n",
    "# Extract section numbers from input string 3 using pattern 3\n",
    "match = re.search(pattern_3, input_string_3)\n",
    "if match:\n",
    "    section_numbers.append(match.group(1))\n",
    "    section_numbers.append(match.group(2))\n",
    "    section_numbers.append(match.group(3))\n",
    "\n",
    "# Extract section numbers from input string 4 using pattern 4\n",
    "match = re.search(pattern_4, input_string_4)\n",
    "if match:\n",
    "    start_section = match.group(1)\n",
    "    end_section = match.group(2)\n",
    "    # Add all section numbers between start_section and end_section (inclusive)\n",
    "    for section_number in range(ord(start_section), ord(end_section)+1):\n",
    "        section_numbers.append(chr(section_number))\n",
    "\n",
    "# Print the section numbers extracted from each input string\n",
    "print(\"Section Numbers:\", section_numbers)\n"
   ]
  },
  {
   "cell_type": "code",
   "execution_count": null,
   "id": "88c5800b",
   "metadata": {},
   "outputs": [],
   "source": []
  }
 ],
 "metadata": {
  "kernelspec": {
   "display_name": "Python 3 (ipykernel)",
   "language": "python",
   "name": "python3"
  },
  "language_info": {
   "codemirror_mode": {
    "name": "ipython",
    "version": 3
   },
   "file_extension": ".py",
   "mimetype": "text/x-python",
   "name": "python",
   "nbconvert_exporter": "python",
   "pygments_lexer": "ipython3",
   "version": "3.11.3"
  }
 },
 "nbformat": 4,
 "nbformat_minor": 5
}
